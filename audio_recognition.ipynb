{
  "nbformat": 4,
  "nbformat_minor": 0,
  "metadata": {
    "colab": {
      "provenance": [],
      "include_colab_link": true
    },
    "kernelspec": {
      "name": "python3",
      "display_name": "Python 3"
    },
    "language_info": {
      "name": "python"
    }
  },
  "cells": [
    {
      "cell_type": "markdown",
      "metadata": {
        "id": "view-in-github",
        "colab_type": "text"
      },
      "source": [
        "<a href=\"https://colab.research.google.com/github/shb2908/audio_recognition/blob/main/audio_recognition.ipynb\" target=\"_parent\"><img src=\"https://colab.research.google.com/assets/colab-badge.svg\" alt=\"Open In Colab\"/></a>"
      ]
    },
    {
      "cell_type": "code",
      "source": [
        "!pip install wget\n",
        "!pip install gdown\n",
        "!pip install pydub"
      ],
      "metadata": {
        "id": "se8hzAJVjW2T"
      },
      "execution_count": null,
      "outputs": []
    },
    {
      "cell_type": "code",
      "source": [
        "# import wget,gdown\n",
        "import pandas as pd\n",
        "import os\n",
        "import shutil\n",
        "from pydub import AudioSegment\n",
        "import random"
      ],
      "metadata": {
        "id": "o7HH_XUElzkN"
      },
      "execution_count": null,
      "outputs": []
    },
    {
      "cell_type": "code",
      "source": [
        "from google.colab import drive\n",
        "drive.mount('/content/drive')"
      ],
      "metadata": {
        "colab": {
          "base_uri": "https://localhost:8080/"
        },
        "id": "U2XHKBSQ_Qly",
        "outputId": "06e526c4-cea1-4091-e54d-8c15b32414d5"
      },
      "execution_count": null,
      "outputs": [
        {
          "output_type": "stream",
          "name": "stdout",
          "text": [
            "Mounted at /content/drive\n"
          ]
        }
      ]
    },
    {
      "cell_type": "code",
      "source": [
        "def split_audio(file_path, output_name, base, seed=0):\n",
        "    sound = AudioSegment.from_file(file_path)\n",
        "\n",
        "    # Calculate the duration in milliseconds\n",
        "    duration_ms = len(sound)\n",
        "    ten_seconds = 10 * 1000  # 10 seconds in milliseconds\n",
        "\n",
        "    # Split the audio file into segments of 10 seconds\n",
        "    segments = []\n",
        "    for i in range(0, duration_ms, ten_seconds):\n",
        "        segment = sound[i:i + ten_seconds]\n",
        "        segments.append(segment)\n",
        "\n",
        "    # Save each segment as a separate audio file\n",
        "    for i, segment in enumerate(segments):\n",
        "        segment.export(f\"{base}{output_name}_{seed+i}.wav\", format=\"wav\")\n",
        "    return i"
      ],
      "metadata": {
        "id": "M_DPb2qTrjWq"
      },
      "execution_count": null,
      "outputs": []
    },
    {
      "cell_type": "markdown",
      "source": [
        "# Training"
      ],
      "metadata": {
        "id": "rNlF9hb2Fz_P"
      }
    },
    {
      "cell_type": "code",
      "source": [
        "training_df = pd.read_csv('/content/drive/MyDrive/....')"
      ],
      "metadata": {
        "id": "FOxdujbtGFx4"
      },
      "execution_count": null,
      "outputs": []
    },
    {
      "cell_type": "code",
      "source": [
        "!rm -r /content/drive/MyDrive/.....\n",
        "!rm -r temp_audios\n",
        "os.mkdir('/content/drive/MyDrive/.......')\n",
        "os.mkdir('temp_audios')"
      ],
      "metadata": {
        "id": "7H7uEKixpv2d",
        "colab": {
          "base_uri": "https://localhost:8080/"
        },
        "outputId": "886c2e52-e77e-4fda-853d-2b8c71aadc50"
      },
      "execution_count": null,
      "outputs": [
        {
          "output_type": "stream",
          "name": "stdout",
          "text": [
            "rm: cannot remove '/content/drive/MyDrive/training_audio_data': No such file or directory\n",
            "rm: cannot remove 'temp_audios': No such file or directory\n"
          ]
        }
      ]
    },
    {
      "cell_type": "code",
      "source": [
        "for i,row in training_df.iterrows():\n",
        "  try:\n",
        "\n",
        "    person_id = str(i)+'_'+str(row[1])+'_'+str(row[2])\n",
        "    base = '/content/drive/MyDrive/training_audio_data/'\n",
        "    os.mkdir(base+person_id)\n",
        "    print(\"Processing \"+person_id)\n",
        "    seed = 0\n",
        "    for j in range(4,14):\n",
        "      if str(training_df.iloc[i][j]) != 'nan':\n",
        "        if i==-1 and j==8:\n",
        "          x = gdown.download('https://drive.google.com/uc?id='+training_df.iloc[i][j].split('https://drive.google.com/open?id=')[1][:-1],'temp_audios/')\n",
        "        else:\n",
        "          x = gdown.download('https://drive.google.com/uc?id='+training_df.iloc[i][j].split('https://drive.google.com/open?id=')[1],'temp_audios/')\n",
        "        seed = split_audio(x,person_id,base+person_id+'/',seed+1)\n",
        "        print('----')\n",
        "  except:\n",
        "    print(\"------------ Problem -----------\")\n",
        "    print(row)\n",
        "    print(\"-----> \"+base+person_id)"
      ],
      "metadata": {
        "id": "g0Ne5LVYl8Yb"
      },
      "execution_count": null,
      "outputs": []
    },
    {
      "cell_type": "markdown",
      "source": [
        "# Testing"
      ],
      "metadata": {
        "id": "1L1UWC4QF1tE"
      }
    },
    {
      "cell_type": "code",
      "source": [
        "base_indx = 126"
      ],
      "metadata": {
        "id": "8aOYJGJAWZb5"
      },
      "execution_count": null,
      "outputs": []
    },
    {
      "cell_type": "code",
      "source": [
        "testing_df = pd.read_csv('/content/drive/MyDrive/testing2.csv')"
      ],
      "metadata": {
        "id": "9H4WcEMhGHr_"
      },
      "execution_count": null,
      "outputs": []
    },
    {
      "cell_type": "code",
      "source": [
        "testing_df.iloc[0][2]"
      ],
      "metadata": {
        "id": "pKtGyy5vGKKC"
      },
      "execution_count": null,
      "outputs": []
    },
    {
      "cell_type": "code",
      "source": [
        "!rm -r /content/drive/MyDrive/testing_audio_data\n",
        "!rm -r temp_audios\n",
        "os.mkdir('/content/drive/MyDrive/testing_audio_data')\n",
        "os.mkdir('temp_audios')"
      ],
      "metadata": {
        "id": "W8Ud371aB6XN"
      },
      "execution_count": null,
      "outputs": []
    },
    {
      "cell_type": "code",
      "source": [
        "for i,row in testing_df.iterrows():\n",
        "  try:\n",
        "    person_id = str(base_indx+i)+'_'+str(row[1])+'_'+str(row[2])\n",
        "    base = '/content/drive/MyDrive/testing_audio_data/'\n",
        "    os.mkdir(base+person_id)\n",
        "    print(\"Processing \"+person_id)\n",
        "    seed = 0\n",
        "    for j in range(5,9):\n",
        "      if str(testing_df.iloc[i][j]) != 'nan':\n",
        "        src_link = 'https://drive.google.com/uc?id='+testing_df.iloc[i][j].split('https://drive.google.com/open?id=')[1]\n",
        "        x = gdown.download(src_link,'temp_audios/')\n",
        "        seed = split_audio(x,person_id,base+person_id+'/',seed+1)\n",
        "        print('----')\n",
        "  except:\n",
        "    print(\"------------ Problem -----------\")\n",
        "    print(row)\n",
        "    print(\"-----> \"+base+person_id)"
      ],
      "metadata": {
        "id": "Rs9MCOJUF7au"
      },
      "execution_count": null,
      "outputs": []
    },
    {
      "cell_type": "markdown",
      "source": [
        "# WAP"
      ],
      "metadata": {
        "id": "TltM7bo0U84Q"
      }
    },
    {
      "cell_type": "code",
      "source": [
        "!rm -r /content/drive/MyDrive/.......\n",
        "!rm -r temp_audios\n",
        "os.mkdir('/content/drive/MyDrive/.......')\n",
        "os.mkdir('temp_audios')"
      ],
      "metadata": {
        "id": "xp7LDaGxOb-1"
      },
      "execution_count": null,
      "outputs": []
    },
    {
      "cell_type": "code",
      "source": [
        "src_base = '/content/drive/MyDrive/.......'\n",
        "base_indx = 169\n",
        "i = 0\n",
        "for f in os.listdir(src_base):\n",
        "  try:\n",
        "    person_id = str(base_indx+i)+'_'+f.split('_')[1]+'_'+f.split('_')[2].lower()\n",
        "    base = '/content/drive/MyDrive/wap_audio_data/'\n",
        "    os.mkdir(base+person_id)\n",
        "    print(\"Processing ... \"+person_id)\n",
        "    seed = split_audio(src_base+f,person_id,base+person_id+'/',0)\n",
        "    i+=1\n",
        "  except:\n",
        "    print(\"------------ Problem -----------\")\n",
        "    print(f)\n",
        "    print(\"-----> \"+base+person_id)"
      ],
      "metadata": {
        "id": "Mez0qsn3V8UL"
      },
      "execution_count": null,
      "outputs": []
    },
    {
      "cell_type": "markdown",
      "source": [
        "# YT"
      ],
      "metadata": {
        "id": "qq8ERjxpoQNj"
      }
    },
    {
      "cell_type": "code",
      "source": [
        "!rm -r /content/drive/MyDrive/yt_audio_data\n",
        "!rm -r temp_audios\n",
        "os.mkdir('/content/drive/MyDrive/yt_audio_data')\n",
        "os.mkdir('temp_audios')"
      ],
      "metadata": {
        "id": "FeZo9fdnoQN7"
      },
      "execution_count": null,
      "outputs": []
    },
    {
      "cell_type": "code",
      "source": [
        "src_base = '/content/drive/MyDrive/YT/'\n",
        "base_indx = 204\n",
        "i = 0\n",
        "for f in os.listdir(src_base):\n",
        "  try:\n",
        "    person_id = str(base_indx+i)+'_'+f.split('_')[0]+'_'+f.split('_')[1].lower()\n",
        "    base = '/content/drive/MyDrive/yt_audio_data/'\n",
        "    os.mkdir(base+person_id)\n",
        "    print(\"Processing ... \"+person_id)\n",
        "    seed = split_audio(src_base+f,person_id,base+person_id+'/',0)\n",
        "    i+=1\n",
        "  except:\n",
        "    print(\"------------ Problem -----------\")\n",
        "    print(f)\n",
        "    print(\"-----> \"+base+person_id)"
      ],
      "metadata": {
        "id": "a-X8iacFoQN8"
      },
      "execution_count": null,
      "outputs": []
    },
    {
      "cell_type": "markdown",
      "source": [
        "# Custom SRC\n"
      ],
      "metadata": {
        "id": "i6jGKQ2agPGl"
      }
    },
    {
      "cell_type": "code",
      "source": [
        "!rm -r /content/drive/MyDrive/custom_audio_data\n",
        "!rm -r temp_audios\n",
        "os.mkdir('/content/drive/MyDrive/custom_audio_data')\n",
        "os.mkdir('temp_audios')"
      ],
      "metadata": {
        "id": "9574VE8MgPGn"
      },
      "execution_count": null,
      "outputs": []
    },
    {
      "cell_type": "code",
      "source": [
        "src_base = '/content/drive/MyDrive/custom_src/'\n",
        "base_indx = 296\n",
        "i = 0\n",
        "for f in os.listdir(src_base):\n",
        "  try:\n",
        "    person_id = str(base_indx+i)+'_'+f.split('_')[0]+'_'+f.split('_')[1].lower()\n",
        "    base = '/content/drive/MyDrive/custom_audio_data/'\n",
        "    os.mkdir(base+person_id)\n",
        "    print(\"Processing ... \"+person_id)\n",
        "    seed = split_audio(src_base+f,person_id,base+person_id+'/',0)\n",
        "    i+=1\n",
        "  except:\n",
        "    print(\"------------ Problem -----------\")\n",
        "    print(f)\n",
        "    print(\"-----> \"+base+person_id)"
      ],
      "metadata": {
        "id": "NNwFW2adgPGn"
      },
      "execution_count": null,
      "outputs": []
    },
    {
      "cell_type": "markdown",
      "source": [
        "# Validating The Datas"
      ],
      "metadata": {
        "id": "w3deRXZYzFdV"
      }
    },
    {
      "cell_type": "code",
      "source": [
        "# from pydub.utils import mediainfo\n",
        "\n",
        "# def get_audio_duration(file_path):\n",
        "#     # Use mediainfo function to get audio file information\n",
        "#     audio_info = mediainfo(file_path)\n",
        "#     # Extract duration from the audio file information\n",
        "#     duration = float(audio_info['duration'])  # Duration in seconds\n",
        "#     return duration"
      ],
      "metadata": {
        "id": "ebA7OsZM3NgB"
      },
      "execution_count": null,
      "outputs": []
    },
    {
      "cell_type": "code",
      "source": [
        "# n = 0\n",
        "# r = 0\n",
        "# b = '/content/drive/MyDrive/training_audio_data'\n",
        "# for x in os.listdir(b):\n",
        "#   n+=len(os.listdir(b+'/'+x))\n",
        "#   for f in os.listdir(b+'/'+x):\n",
        "#     ll = get_audio_duration(b+'/'+x+'/'+f)\n",
        "#     if ll < 3:\n",
        "#       print(ll)\n",
        "#       os.remove(b+'/'+x+'/'+f)\n",
        "#       r+=1\n",
        "# print(str(b)+\"------->\"+str(n))\n",
        "# print(str(b)+\"------->\"+str(r))"
      ],
      "metadata": {
        "id": "FfTUwhSZoQN8"
      },
      "execution_count": null,
      "outputs": []
    },
    {
      "cell_type": "code",
      "source": [
        "# n = 0\n",
        "# r = 0\n",
        "# b = '/content/drive/MyDrive/testing_audio_data'\n",
        "# for x in os.listdir(b):\n",
        "#   n+=len(os.listdir(b+'/'+x))\n",
        "#   for f in os.listdir(b+'/'+x):\n",
        "#     ll = get_audio_duration(b+'/'+x+'/'+f)\n",
        "#     if ll < 3:\n",
        "#       print(ll)\n",
        "#       os.remove(b+'/'+x+'/'+f)\n",
        "#       r+=1\n",
        "# print(str(b)+\"------->\"+str(n))\n",
        "# print(str(b)+\"------->\"+str(r))"
      ],
      "metadata": {
        "id": "6bNEmJ0Vzx2D"
      },
      "execution_count": null,
      "outputs": []
    },
    {
      "cell_type": "code",
      "source": [
        "# n = 0\n",
        "# r = 0\n",
        "# b = '/content/drive/MyDrive/wap_audio_data'\n",
        "# for x in os.listdir(b):\n",
        "#   n+=len(os.listdir(b+'/'+x))\n",
        "#   for f in os.listdir(b+'/'+x):\n",
        "#     ll = get_audio_duration(b+'/'+x+'/'+f)\n",
        "#     if ll < 3:\n",
        "#       print(ll)\n",
        "#       os.remove(b+'/'+x+'/'+f)\n",
        "#       r+=1\n",
        "# print(str(b)+\"------->\"+str(n))\n",
        "# print(str(b)+\"------->\"+str(r))"
      ],
      "metadata": {
        "id": "bN1ycMsyzyls"
      },
      "execution_count": null,
      "outputs": []
    },
    {
      "cell_type": "code",
      "source": [
        "# n = 0\n",
        "# r = 0\n",
        "# b = '/content/drive/MyDrive/yt_audio_data'\n",
        "# for x in os.listdir(b):\n",
        "#   n+=len(os.listdir(b+'/'+x))\n",
        "#   for f in os.listdir(b+'/'+x):\n",
        "#     ll = get_audio_duration(b+'/'+x+'/'+f)\n",
        "#     if ll < 3:\n",
        "#       print(ll)\n",
        "#       os.remove(b+'/'+x+'/'+f)\n",
        "#       r+=1\n",
        "# print(str(b)+\"------->\"+str(n))\n",
        "# print(str(b)+\"------->\"+str(r))"
      ],
      "metadata": {
        "id": "muvpG6j3z9ux"
      },
      "execution_count": null,
      "outputs": []
    },
    {
      "cell_type": "code",
      "source": [
        "# n = 0\n",
        "# r = 0\n",
        "# b = '/content/drive/MyDrive/custom_audio_data'\n",
        "# for x in os.listdir(b):\n",
        "#   n+=len(os.listdir(b+'/'+x))\n",
        "#   for f in os.listdir(b+'/'+x):\n",
        "#     ll = get_audio_duration(b+'/'+x+'/'+f)\n",
        "#     if ll < 3:\n",
        "#       print(ll)\n",
        "#       os.remove(b+'/'+x+'/'+f)\n",
        "#       r+=1\n",
        "# print(str(b)+\"------->\"+str(n))\n",
        "# print(str(b)+\"------->\"+str(r))"
      ],
      "metadata": {
        "id": "2xAEr0tPi7Vc"
      },
      "execution_count": null,
      "outputs": []
    },
    {
      "cell_type": "code",
      "source": [
        "\"\"\"\n",
        "Dataset Summary\n",
        "Number of 10 sec audio\n",
        "Training form : 1050 (100 unique)\n",
        "Testing form : 281 (30 unique)\n",
        "Sent-via-whatsapp form : 183 (17 unique)\n",
        "Celebrity form : 576 (91 unique)\n",
        "\n",
        "Total unique persons: 300\n",
        "Total number of clips: 2090 (after removing <3s files)\n",
        "Dataset size: 1.6 gb\n",
        "\"\"\""
      ],
      "metadata": {
        "id": "MtjBbEoJ0JTQ"
      },
      "execution_count": null,
      "outputs": []
    },
    {
      "cell_type": "markdown",
      "source": [
        "# Finalizing The Dataset"
      ],
      "metadata": {
        "id": "8RPincfkELVE"
      }
    },
    {
      "cell_type": "code",
      "source": [
        "os.listdir('/content/drive/MyDrive/')"
      ],
      "metadata": {
        "id": "AwyiggoLEPhc"
      },
      "execution_count": null,
      "outputs": []
    },
    {
      "cell_type": "code",
      "source": [
        "srcfolders = [\n",
        "    '/content/drive/MyDrive/',\n",
        "    '/content/drive/MyDrive/',\n",
        "    '/content/drive/MyDrive/']"
      ],
      "metadata": {
        "id": "PWMqFIJwFC-A"
      },
      "execution_count": null,
      "outputs": []
    },
    {
      "cell_type": "code",
      "source": [
        "train_split_dir = '/content/drive/MyDrive/'\n",
        "test_split_dir = '/content/drive/MyDrive/'\n",
        "test_split_dir_hid ='/content/drive/MyDrive/'"
      ],
      "metadata": {
        "id": "Z9vj1FxJPNIO"
      },
      "execution_count": null,
      "outputs": []
    },
    {
      "cell_type": "code",
      "source": [
        "indexes = list(range(1, 1001))\n",
        "random.shuffle(indexes)"
      ],
      "metadata": {
        "id": "eGj8IVj4TSoV"
      },
      "execution_count": null,
      "outputs": []
    },
    {
      "cell_type": "code",
      "source": [
        "print(indexes)"
      ],
      "metadata": {
        "id": "wOwpSJN-T4yc"
      },
      "execution_count": null,
      "outputs": []
    },
    {
      "cell_type": "code",
      "source": [
        "# from collections import defaultdict\n",
        "# all_files = defaultdict(list)"
      ],
      "metadata": {
        "id": "ed7v3ICCYaUK"
      },
      "execution_count": null,
      "outputs": []
    },
    {
      "cell_type": "code",
      "source": [
        "mapping = {}\n",
        "ind = 0\n",
        "unq = 0\n",
        "\n",
        "for fol in srcfolders:\n",
        "  dirlist_in_fol = os.listdir(fol)\n",
        "  print(len(dirlist_in_fol))\n",
        "  for sub_fol in dirlist_in_fol:\n",
        "    unq+=1\n",
        "    for fil in os.listdir(fol+'/'+sub_fol):\n",
        "      prev_path = fol+'/'+sub_fol+'/'+fil\n",
        "      if unq <= 50:\n",
        "        mapping[indexes[ind]] = [sub_fol,prev_path]\n",
        "        shutil.copyfile(prev_path, test_split_dir+'/'+str(indexes[ind])+'.wav')\n",
        "        ind+=1\n",
        "      elif unq <= 100:\n",
        "        mapping[indexes[ind]] = [sub_fol,prev_path]\n",
        "        shutil.copyfile(prev_path, test_split_dir_hid+'/'+str(indexes[ind])+'.wav')\n",
        "        ind+=1\n",
        "    # if unq > 100:\n",
        "    #   shutil.copytree(fol+'/'+sub_fol, train_split_dir+'/')"
      ],
      "metadata": {
        "colab": {
          "base_uri": "https://localhost:8080/"
        },
        "id": "4346BJ-SOiNm",
        "outputId": "b7bf2577-1285-4cfd-e624-9e9660a89f03"
      },
      "execution_count": null,
      "outputs": [
        {
          "output_type": "stream",
          "name": "stdout",
          "text": [
            "5\n",
            "35\n",
            "60\n"
          ]
        }
      ]
    },
    {
      "cell_type": "code",
      "source": [
        "import json\n",
        "# Specify the file path to save the JSON data\n",
        "file_path = '/content/drive/MyDrive/'\n",
        "\n",
        "# Save the dictionary as JSON\n",
        "with open(file_path, \"w\") as json_file:\n",
        "    json.dump(mapping, json_file)\n",
        "\n",
        "print(f\"Dictionary saved as JSON in '{file_path}'\")"
      ],
      "metadata": {
        "id": "cGOxHdosiDfp"
      },
      "execution_count": null,
      "outputs": []
    },
    {
      "cell_type": "code",
      "source": [
        "len(os.listdir(test_split_dir))"
      ],
      "metadata": {
        "id": "44iU17z-hoTn"
      },
      "execution_count": null,
      "outputs": []
    },
    {
      "cell_type": "code",
      "source": [
        "mapping[5]"
      ],
      "metadata": {
        "id": "72y5XH6Ij7p6"
      },
      "execution_count": null,
      "outputs": []
    },
    {
      "cell_type": "code",
      "source": [
        "srcfolders_train_rename = [\n",
        "    '/content/drive/MyDrive/',\n",
        "    '/content/drive/MyDrive/']"
      ],
      "metadata": {
        "id": "hjetRvzrlAk4"
      },
      "execution_count": null,
      "outputs": []
    },
    {
      "cell_type": "code",
      "source": [
        "tr_ind = 0\n",
        "for fol in srcfolders_train_rename:\n",
        "  dirlist_in_fol = os.listdir(fol)\n",
        "  print(len(dirlist_in_fol))\n",
        "  for sub_fol in dirlist_in_fol:\n",
        "    tag = sub_fol.split('_')[1]+'_'+sub_fol.split('_')[2]\n",
        "    new_fol_path = train_split_dir+'/'+str(tr_ind)+\"_\"+str(tag).lower()\n",
        "    os.mkdir(new_fol_path)\n",
        "    i = 0\n",
        "    for fil in os.listdir(fol+'/'+sub_fol):\n",
        "      prev_path = fol+'/'+sub_fol+'/'+fil\n",
        "      new_file_path = new_fol_path+\"/\"+str(tr_ind)+\"_\"+str(tag).lower()+\"_\"+str(i)+\".wav\"\n",
        "      print(new_file_path)\n",
        "      shutil.copyfile(prev_path, new_file_path)\n",
        "      i+=1\n",
        "    tr_ind+=1\n",
        "    # if unq > 100:\n",
        "    #   shutil.copytree(fol+'/'+sub_fol, train_split_dir+'/')"
      ],
      "metadata": {
        "id": "9YVZ9A6HmsPJ"
      },
      "execution_count": null,
      "outputs": []
    },
    {
      "cell_type": "code",
      "source": [
        "fol = '/content/drive/MyDrive/'\n",
        "actual = []\n",
        "pid = 0\n",
        "n = 0\n",
        "for sub_fol in os.listdir(fol):\n",
        "  for fil in os.listdir(fol+'/'+sub_fol):\n",
        "    prev_path = fol+'/'+sub_fol+'/'+fil\n",
        "    actual.append([sub_fol+'/'+fil,str(pid)])\n",
        "    if '.wav' not in fil:\n",
        "      assert(0)\n",
        "    n+=1\n",
        "  pid+=1"
      ],
      "metadata": {
        "id": "AXYz8BqoMHtr"
      },
      "execution_count": null,
      "outputs": []
    },
    {
      "cell_type": "code",
      "source": [
        "n"
      ],
      "metadata": {
        "colab": {
          "base_uri": "https://localhost:8080/"
        },
        "id": "5a_2p-FCSW8H",
        "outputId": "a106cea3-94a7-4699-b8a4-d015deee4469"
      },
      "execution_count": null,
      "outputs": [
        {
          "output_type": "execute_result",
          "data": {
            "text/plain": [
              "1453"
            ]
          },
          "metadata": {},
          "execution_count": 33
        }
      ]
    },
    {
      "cell_type": "code",
      "source": [
        "import csv\n",
        "columns = ['File_name', 'Person_id']\n",
        "\n",
        "# CSV file name\n",
        "file_name ='/content/drive/MyDrive/'\n",
        "\n",
        "# Writing list to CSV file with column names\n",
        "with open(file_name, 'w', newline='') as file:\n",
        "    writer = csv.writer(file)\n",
        "    writer.writerow(columns)  # Writing column names as the first row\n",
        "    writer.writerows(actual)\n",
        "\n",
        "print(f\"Data has been written to '{file_name}'\")\n"
      ],
      "metadata": {
        "id": "8mjxOUd_MKHe"
      },
      "execution_count": null,
      "outputs": []
    },
    {
      "cell_type": "code",
      "source": [
        "actual"
      ],
      "metadata": {
        "id": "fxJ8Ok2cU76o"
      },
      "execution_count": null,
      "outputs": []
    },
    {
      "cell_type": "markdown",
      "source": [
        "# Evaluation"
      ],
      "metadata": {
        "id": "Cv5z4dS4MFVW"
      }
    },
    {
      "cell_type": "code",
      "source": [
        "  def evaluate(actual, predicted):\n",
        "      # actual: List of tuples representing actual file-person_id mappings\n",
        "      # predicted: List of tuples representing predicted file-person_id mappings\n",
        "\n",
        "      # Create a dictionary to store actual groupings\n",
        "      actual_groupings = {}\n",
        "      for file_name, person_id in actual:\n",
        "          # Find all other file names associated with the same person_id\n",
        "          group = [f[0] for f in actual if f[1] == person_id and f[0] != file_name]\n",
        "          # Store these file names as a list under the file_name key in actual_groupings\n",
        "          actual_groupings[file_name] = group\n",
        "\n",
        "      # Create a similar dictionary to store predicted groupings\n",
        "      predicted_groupings = {}\n",
        "      for file_name, person_id in predicted:\n",
        "          group = [f[0] for f in predicted if f[1] == person_id and f[0] != file_name]\n",
        "          predicted_groupings[file_name] = group\n",
        "\n",
        "      # Initialize the score\n",
        "      score = 0\n",
        "      for file_name in actual_groupings:\n",
        "          act_group = actual_groupings[file_name]  # Get the actual grouping for the current file\n",
        "          pred_group = predicted_groupings[file_name]  # Get the predicted grouping for the current file\n",
        "\n",
        "          true_pair = list(set(act_group) & set(pred_group))  # Find the common elements (true pair)\n",
        "          false_pair = list(set(pred_group) - set(act_group))  # Find elements in predicted but not in actual (false pair)\n",
        "\n",
        "          # Update the score: +2 for true pairing, -1 for false pairing\n",
        "          score += (len(true_pair) * (2) + len(false_pair)*(-1))\n",
        "\n",
        "      return score"
      ],
      "metadata": {
        "id": "Vv9poJVOv8DV"
      },
      "execution_count": null,
      "outputs": []
    }
  ]
}